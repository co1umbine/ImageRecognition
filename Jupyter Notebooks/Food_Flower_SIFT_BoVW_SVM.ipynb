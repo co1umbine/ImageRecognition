{
 "cells": [
  {
   "cell_type": "markdown",
   "metadata": {},
   "source": [
    "## インポート"
   ]
  },
  {
   "cell_type": "code",
   "execution_count": 28,
   "metadata": {},
   "outputs": [],
   "source": [
    "import numpy as np\n",
    "import matplotlib.pyplot as plt\n",
    "import cv2\n",
    "import sklearn\n",
    "from sklearn.cluster import KMeans\n",
    "import random\n",
    "from PIL import Image\n",
    "import torch\n",
    "import torchvision\n",
    "from torchvision import datasets, models, transforms\n",
    "import os"
   ]
  },
  {
   "cell_type": "markdown",
   "metadata": {},
   "source": [
    "## クラス、変数定義"
   ]
  },
  {
   "cell_type": "code",
   "execution_count": 34,
   "metadata": {},
   "outputs": [
    {
     "name": "stdout",
     "output_type": "stream",
     "text": [
      "<class 'list'>\n",
      "<class 'numpy.ndarray'>\n"
     ]
    }
   ],
   "source": [
    "directory_path = \"D:/Work/ImageRecognition/Images/%s\"\n",
    "food_path = \"food_142/\"\n",
    "flower_path = \"flower_142/\"\n",
    "food_test_path = \"food_test/\"\n",
    "flower_test_path = \"flower_test/\"\n",
    "num_classes = 2\n",
    "\n",
    "class FoodFlowerDataset(torch.utils.data.Dataset):\n",
    "\n",
    "    def __init__(self, transform=None, train=True):\n",
    "        self.transform = transform\n",
    "        self.images = []\n",
    "        self.labels = []\n",
    "        if train:\n",
    "            food_folder = directory_path%(food_path)\n",
    "            flower_folder = directory_path%(flower_path)\n",
    "        else:\n",
    "            food_folder = directory_path%(food_test_path)\n",
    "            flower_folder = directory_path%(flower_test_path)\n",
    "        self.images.extend([food_folder + p for p in os.listdir(food_folder)])\n",
    "        self.labels.extend([0] * len(self.images))\n",
    "        self.images.extend([flower_folder + p for p in os.listdir(flower_folder)])\n",
    "        self.labels.extend([1] * (len(self.images)-len(self.labels)))\n",
    "        \n",
    "    def __getitem__(self, index):\n",
    "        image = self.images[index]\n",
    "        label = self.labels[index]\n",
    "        with open(image, \"rb\") as f:\n",
    "            image = Image.open(f)\n",
    "            image = image.convert(\"RGB\")\n",
    "        if self.transform is not None:\n",
    "            image = self.transform(image)\n",
    "        return image, label\n",
    "        \n",
    "    def __len__(self):\n",
    "        return len(self.images)\n",
    "\n",
    "center_transforms = transforms.Compose([\n",
    "        transforms.Resize(256), \n",
    "        transforms.CenterCrop(224),\n",
    "    ])\n",
    "\n",
    "train_dataset = FoodFlowerDataset(transform=center_transforms, train=True)\n",
    "test_dataset = FoodFlowerDataset(transform=center_transforms, train=False)\n",
    "\n",
    "train_image = []\n",
    "train_label = []\n",
    "test_image = []\n",
    "test_label = []\n",
    "\n",
    "for image, label in train_dataset:\n",
    "    train_image.append(np.array(image))\n",
    "    train_label.append(label)\n",
    "    \n",
    "print(type(train_image))\n",
    "print(type(train_image[0]))\n",
    "    \n",
    "for image, label in test_dataset:\n",
    "    test_image.append(np.array(image))\n",
    "    test_label.append(label)\n",
    "\n",
    "    \n",
    "train_image = np.array(train_image)\n",
    "train_label = np.array(train_label)\n",
    "test_image = np.array(test_image)\n",
    "test_label = np.array(test_label)\n",
    "    "
   ]
  },
  {
   "cell_type": "markdown",
   "metadata": {},
   "source": [
    "## 学習"
   ]
  },
  {
   "cell_type": "code",
   "execution_count": null,
   "metadata": {},
   "outputs": [],
   "source": []
  }
 ],
 "metadata": {
  "kernelspec": {
   "display_name": "Python 3",
   "language": "python",
   "name": "python3"
  },
  "language_info": {
   "codemirror_mode": {
    "name": "ipython",
    "version": 3
   },
   "file_extension": ".py",
   "mimetype": "text/x-python",
   "name": "python",
   "nbconvert_exporter": "python",
   "pygments_lexer": "ipython3",
   "version": "3.8.5"
  }
 },
 "nbformat": 4,
 "nbformat_minor": 4
}
